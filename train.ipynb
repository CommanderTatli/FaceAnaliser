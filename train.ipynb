{
 "cells": [
  {
   "cell_type": "markdown",
   "metadata": {},
   "source": [
    "# Információ kinyerése arcokból mélyneurális hálókkal"
   ]
  },
  {
   "cell_type": "markdown",
   "metadata": {},
   "source": [
    "## Előkészületek"
   ]
  },
  {
   "cell_type": "markdown",
   "metadata": {},
   "source": [
    "Hivatkozzuk be nem csak az eddig felhasznált könyvtárakat, de a másik notebook fájlt is, ahol az eddig megírt segédosztályok és metódusok vannak."
   ]
  },
  {
   "cell_type": "code",
   "execution_count": 1,
   "metadata": {},
   "outputs": [
    {
     "name": "stdout",
     "output_type": "stream",
     "text": [
      "importing Jupyter notebook from model.ipynb\n",
      "CUDA available!\n"
     ]
    }
   ],
   "source": [
    "import sys\n",
    "sys.path.append('c:\\\\users\\\\ifjto\\\\appdata\\\\local\\\\programs\\\\python\\\\python37\\\\lib\\\\site-packages')\n",
    "import numpy as np\n",
    "import import_ipynb\n",
    "from model import ResidualBlock, NeuralNetwork, MyDataset, get_data, train, classify, validate\n",
    "import numpy as np\n",
    "import torch\n",
    "from torch import nn\n",
    "from torch.utils.data import *\n",
    "import torch.optim as optim\n",
    "import torch.cuda\n",
    "import torchvision.transforms as transforms\n",
    "import cv2\n",
    "import os\n",
    "import time\n",
    "from IPython.display import Image\n",
    "%matplotlib inline\n",
    "import matplotlib\n",
    "import matplotlib.pyplot as plt"
   ]
  },
  {
   "cell_type": "markdown",
   "metadata": {},
   "source": [
    "## Nemek osztályozása"
   ]
  },
  {
   "cell_type": "markdown",
   "metadata": {},
   "source": [
    "Tanuljuk meg nemek szerint osztályozni, a másik notebookban definiált függvény használatával. A hiperparaméterek értékeit nem véletlen próbálgatással, hanem az optimalisation.ipynb futtatása alapján találtam, ami Bayesi optimalizációt használ."
   ]
  },
  {
   "cell_type": "code",
   "execution_count": 2,
   "metadata": {},
   "outputs": [
    {
     "name": "stdout",
     "output_type": "stream",
     "text": [
      "Encountered Transgender 3 times but it isn't accepted\n",
      "Male is 76.13% of data\n",
      "Female is 23.87% of data\n",
      "Dataset of  4738  records initialised.\n",
      "30 / 30\tbalanced accuracy: 86.8%\tloss: 0.1577\n",
      "Finished training after  1488  seconds\n"
     ]
    }
   ],
   "source": [
    "trainloader, testloader, validationloader, frequencies = get_data(\"gender\", (\"Male\", \"Female\"), 16)\n",
    "genderNet, stats, losses = train(nC=2, nFeat=9, nLevels=5, layersPerLevel=3, kernelSize=9, dropout=0.4804,\n",
    "                                 trainloader=trainloader, testloader=testloader, lr=pow(10, -3.846),\n",
    "                                 wd=pow(10, -7.811), numEpoch=30, frequencies=frequencies)"
   ]
  },
  {
   "cell_type": "markdown",
   "metadata": {},
   "source": [
    "Rajzoljuk ki, hogyan tanul rá a háló a tanulóadatokra, és hogyan javul a teljesítménye a tesztadatokon."
   ]
  },
  {
   "cell_type": "code",
   "execution_count": 3,
   "metadata": {},
   "outputs": [
    {
     "data": {
      "text/plain": [
       "[<matplotlib.lines.Line2D at 0x2108940f9b0>]"
      ]
     },
     "execution_count": 3,
     "metadata": {},
     "output_type": "execute_result"
    },
    {
     "data": {
      "image/png": "[encoded data removed]",
      "text/plain": [
       "<Figure size 432x288 with 1 Axes>"
      ]
     },
     "metadata": {
      "needs_background": "light"
     },
     "output_type": "display_data"
    }
   ],
   "source": [
    "plt.plot(losses)"
   ]
  },
  {
   "cell_type": "code",
   "execution_count": 4,
   "metadata": {},
   "outputs": [
    {
     "data": {
      "text/plain": [
       "[<matplotlib.lines.Line2D at 0x210894bac50>]"
      ]
     },
     "execution_count": 4,
     "metadata": {},
     "output_type": "execute_result"
    },
    {
     "data": {
      "image/png": "[encoded data removed]",
      "text/plain": [
       "<Figure size 432x288 with 1 Axes>"
      ]
     },
     "metadata": {
      "needs_background": "light"
     },
     "output_type": "display_data"
    }
   ],
   "source": [
    "plt.plot(stats)"
   ]
  },
  {
   "cell_type": "markdown",
   "metadata": {},
   "source": [
    "Nézzük meg, hogy a validációs adatokon milyen eredményt ér el. Ez azért fontos, mert a hiperparaméterek állítgatásával ugyan jó eredményt érhetünk el a tesztadatokon, de ezzel \"össze is koszoljuk\" azt."
   ]
  },
  {
   "cell_type": "code",
   "execution_count": 5,
   "metadata": {},
   "outputs": [
    {
     "name": "stdout",
     "output_type": "stream",
     "text": [
      "Accuracy: 92.3944%\n",
      "Accuracy for balanced classes: 88.09%\n",
      "Best 1 accuracy: 92.3944%\n",
      "Best 1 accuracy for balanced classes: 88.09%\n",
      "\tMale\tFemal\n",
      "Male\t96.63\t3.37\t\n",
      "Femal\t20.45\t79.55\t\n",
      "\n"
     ]
    }
   ],
   "source": [
    "result = validate(genderNet, validationloader, (\"Male\", \"Female\"))\n",
    "print(result)"
   ]
  },
  {
   "cell_type": "markdown",
   "metadata": {},
   "source": [
    "Ezek után megpróbálom, milyen eredményt ad a saját arcomra... A legnagyobb kapott érték a háló által tippelt eredmény, de az érdekesség kedvéért minden eredményt kiiratok, így nem csak az látszik, hogy férfinak vagy nőnek tippel, hanem az is, hogy mennyire biztos a döntésében."
   ]
  },
  {
   "cell_type": "code",
   "execution_count": 8,
   "metadata": {},
   "outputs": [
    {
     "name": "stdout",
     "output_type": "stream",
     "text": [
      "Male:\t-0.03114898130297661\n",
      "Female:\t-0.40925878286361694\n",
      "\n"
     ]
    }
   ],
   "source": [
    "classify(\"me.jpg\", genderNet, (\"Male\", \"Female\"))"
   ]
  },
  {
   "cell_type": "markdown",
   "metadata": {},
   "source": [
    "## Foglalkozáskörök osztályozása"
   ]
  },
  {
   "cell_type": "markdown",
   "metadata": {},
   "source": [
    "Az előzöekben kipróbáltuk az összes függvényt, és lefutattunk egy teljes osztályozást. Most próbáljunk meg mást is osztályozni. Az osztályozandó adat legyen a munkakör. Mivel jól írtam meg az osztályokat és metódusokat, így néhány sor elég most is."
   ]
  },
  {
   "cell_type": "code",
   "execution_count": 2,
   "metadata": {},
   "outputs": [
    {
     "name": "stdout",
     "output_type": "stream",
     "text": [
      "Encountered None 99 times but it isn't accepted\n",
      "Star is 40.56% of data\n",
      "Sciences is 7.88% of data\n",
      "Sports is 2.87% of data\n",
      "Arts is 14.17% of data\n",
      "Business/politics is 23.31% of data\n",
      "Military is 1.4% of data\n",
      "Religion is 1.44% of data\n",
      "Crime is 1.42% of data\n",
      "Music is 5.73% of data\n",
      "Law is 1.21% of data\n",
      "Dataset of  4642  records initialised.\n"
     ]
    }
   ],
   "source": [
    "accepted_values = (\"Star\", \"Sciences\", \"Sports\", \"Arts\", \"Business/politics\", \"Military\", \"Religion\", \n",
    "                  \"Crime\", \"Music\", \"Law\")\n",
    "trainloader, testloader, validationloader, frequencies = get_data(\"occupation_category\", accepted_values, 32)"
   ]
  },
  {
   "cell_type": "code",
   "execution_count": 3,
   "metadata": {},
   "outputs": [
    {
     "name": "stdout",
     "output_type": "stream",
     "text": [
      "30 / 30\tbalanced accuracy: 13.8%\tloss: 0.191\n",
      "Finished training after  4739  seconds\n"
     ]
    }
   ],
   "source": [
    "occupationNet, stats, losses = train(nC=len(accepted_values), nFeat=21, nLevels=5, layersPerLevel=3, kernelSize=9,\n",
    "                               dropout=0.10388419665685261, trainloader=trainloader, testloader=testloader,\n",
    "                               lr=pow(10, -4.634232320937716), wd=pow(10, -8.669600781396264), numEpoch=30,\n",
    "                               frequencies=frequencies)"
   ]
  },
  {
   "cell_type": "code",
   "execution_count": 4,
   "metadata": {},
   "outputs": [
    {
     "data": {
      "text/plain": [
       "[<matplotlib.lines.Line2D at 0x1b1015cd908>]"
      ]
     },
     "execution_count": 4,
     "metadata": {},
     "output_type": "execute_result"
    },
    {
     "data": {
      "image/png": "[encoded data removed]",
      "text/plain": [
       "<Figure size 432x288 with 1 Axes>"
      ]
     },
     "metadata": {
      "needs_background": "light"
     },
     "output_type": "display_data"
    }
   ],
   "source": [
    "plt.plot(losses)"
   ]
  },
  {
   "cell_type": "code",
   "execution_count": 5,
   "metadata": {},
   "outputs": [
    {
     "data": {
      "text/plain": [
       "[<matplotlib.lines.Line2D at 0x1b101678630>]"
      ]
     },
     "execution_count": 5,
     "metadata": {},
     "output_type": "execute_result"
    },
    {
     "data": {
      "image/png": "[encoded data removed]",
      "text/plain": [
       "<Figure size 432x288 with 1 Axes>"
      ]
     },
     "metadata": {
      "needs_background": "light"
     },
     "output_type": "display_data"
    }
   ],
   "source": [
    "plt.plot(stats)"
   ]
  },
  {
   "cell_type": "code",
   "execution_count": 6,
   "metadata": {},
   "outputs": [
    {
     "name": "stdout",
     "output_type": "stream",
     "text": [
      "Accuracy: 38.6494%\n",
      "Accuracy for balanced classes: 20.9%\n",
      "Best 3 accuracy: 52.8736%\n",
      "Best 3 accuracy for balanced classes: 41.61%\n",
      "\tStar\tScien\tSport\tArts\tBusin\tMilit\tRelig\tCrime\tMusic\tLaw\n",
      "Star\t66.78\t0.71\t4.59\t5.65\t6.71\t2.83\t3.18\t4.59\t0.71\t4.24\t\n",
      "Scien\t24.44\t6.67\t0.0\t13.33\t28.89\t2.22\t11.11\t4.44\t2.22\t6.67\t\n",
      "Sport\t26.09\t0.0\t34.78\t0.0\t21.74\t0.0\t8.7\t4.35\t0.0\t4.35\t\n",
      "Arts\t37.62\t10.89\t8.91\t7.92\t10.89\t5.94\t7.92\t2.97\t0.0\t6.93\t\n",
      "Busin\t18.75\t5.62\t9.38\t5.62\t34.38\t6.25\t6.25\t5.0\t0.62\t8.12\t\n",
      "Milit\t0.0\t11.11\t11.11\t22.22\t33.33\t11.11\t0.0\t11.11\t0.0\t0.0\t\n",
      "Relig\t12.5\t0.0\t0.0\t25.0\t0.0\t0.0\t37.5\t12.5\t0.0\t12.5\t\n",
      "Crime\t23.08\t7.69\t15.38\t7.69\t23.08\t7.69\t7.69\t7.69\t0.0\t0.0\t\n",
      "Music\t58.7\t6.52\t8.7\t4.35\t0.0\t2.17\t6.52\t8.7\t2.17\t2.17\t\n",
      "Law\t37.5\t0.0\t12.5\t0.0\t12.5\t25.0\t12.5\t0.0\t0.0\t0.0\t\n",
      "\n",
      "Star:\t0.24989578127861023\n",
      "Sciences:\t1.0941697359085083\n",
      "Sports:\t0.6854268908500671\n",
      "Arts:\t0.13376110792160034\n",
      "Business/politics:\t-0.2992303967475891\n",
      "Military:\t-2.433823585510254\n",
      "Religion:\t-2.515613317489624\n",
      "Crime:\t-1.2801793813705444\n",
      "Music:\t1.6207646131515503\n",
      "Law:\t-2.3439583778381348\n",
      "\n"
     ]
    }
   ],
   "source": [
    "result = validate(occupationNet, validationloader, accepted_values, best_num=3)\n",
    "print(result)\n",
    "classify(\"me.jpg\", occupationNet, accepted_values)"
   ]
  },
  {
   "cell_type": "markdown",
   "metadata": {},
   "source": [
    "## Rasszok felismerése\n",
    "\n",
    "Ez a feladat meglepően nehéznek bizonyult. Rá kellett jönnöm, hogy a kevert rassz elhagyásával jobb eredményt érhetek el, ráadásul nem is lenne okos megtartani egy lényegében \"egyéb\" kategóriát. Helyette a kapott eredményekből lehet kitalálni, ha valaki kevert rasszú: mindössze meg kell vizsgálni, hogy milyen közel áll egymáshoz a két legnagyobb prediktált érték."
   ]
  },
  {
   "cell_type": "code",
   "execution_count": 2,
   "metadata": {},
   "outputs": [
    {
     "name": "stdout",
     "output_type": "stream",
     "text": [
      "Encountered Mixed 218 times but it isn't accepted\n",
      "Encountered American 9 times but it isn't accepted\n",
      "Encountered Other 1 times but it isn't accepted\n",
      "Encountered None 2 times but it isn't accepted\n",
      "Black is 6.65% of data\n",
      "White is 90.89% of data\n",
      "Asian is 2.46% of data\n",
      "Dataset of  4511  records initialised.\n"
     ]
    }
   ],
   "source": [
    "accepted_values = (\"Black\", \"White\", \"Asian\")\n",
    "trainloader, testloader, validationloader, frequencies = get_data(\"race\", accepted_values, 16)"
   ]
  },
  {
   "cell_type": "code",
   "execution_count": 16,
   "metadata": {},
   "outputs": [
    {
     "name": "stdout",
     "output_type": "stream",
     "text": [
      "30 / 30\tbalanced accuracy: 52.94%\tloss: 0.38\n",
      "Finished training after  1038  seconds\n"
     ]
    }
   ],
   "source": [
    "raceNet, stats, losses = train(nC=len(accepted_values), nFeat=20, nLevels=2, layersPerLevel=4, kernelSize=7,\n",
    "                               dropout=0.5, trainloader=trainloader, testloader=testloader,\n",
    "                               lr=pow(10, -4.244144260718087), wd=pow(10, -9.0), numEpoch=30, frequencies=frequencies)"
   ]
  },
  {
   "cell_type": "code",
   "execution_count": 17,
   "metadata": {},
   "outputs": [
    {
     "data": {
      "text/plain": [
       "[<matplotlib.lines.Line2D at 0x1f619aca978>]"
      ]
     },
     "execution_count": 17,
     "metadata": {},
     "output_type": "execute_result"
    },
    {
     "data": {
      "image/png": "[encoded data removed]",
      "text/plain": [
       "<Figure size 432x288 with 1 Axes>"
      ]
     },
     "metadata": {
      "needs_background": "light"
     },
     "output_type": "display_data"
    }
   ],
   "source": [
    "plt.plot(losses)"
   ]
  },
  {
   "cell_type": "code",
   "execution_count": 18,
   "metadata": {},
   "outputs": [
    {
     "data": {
      "text/plain": [
       "[<matplotlib.lines.Line2D at 0x1f620ae2a90>]"
      ]
     },
     "execution_count": 18,
     "metadata": {},
     "output_type": "execute_result"
    },
    {
     "data": {
      "image/png": "[encoded data removed]",
      "text/plain": [
       "<Figure size 432x288 with 1 Axes>"
      ]
     },
     "metadata": {
      "needs_background": "light"
     },
     "output_type": "display_data"
    }
   ],
   "source": [
    "plt.plot(stats)"
   ]
  },
  {
   "cell_type": "code",
   "execution_count": 19,
   "metadata": {},
   "outputs": [
    {
     "name": "stdout",
     "output_type": "stream",
     "text": [
      "Accuracy: 93.1953%\n",
      "Accuracy for balanced classes: 49.52%\n",
      "Best 3 accuracy: 100.0%\n",
      "Best 3 accuracy for balanced classes: 100.0%\n",
      "\tBlack\tWhite\tAsian\n",
      "Black\t50.0\t47.5\t2.5\t\n",
      "White\t1.29\t98.55\t0.16\t\n",
      "Asian\t5.88\t94.12\t0.0\t\n",
      "\n",
      "Black:\t-0.4802742004394531\n",
      "White:\t1.4316895008087158\n",
      "Asian:\t-2.433272361755371\n",
      "\n"
     ]
    }
   ],
   "source": [
    "result = validate(raceNet, validationloader, accepted_values, 1)\n",
    "print(result)\n",
    "classify(\"me.jpg\", raceNet, accepted_values)"
   ]
  },
  {
   "cell_type": "markdown",
   "metadata": {},
   "source": [
    "## Eredmények értékelése"
   ]
  },
  {
   "cell_type": "markdown",
   "metadata": {},
   "source": [
    "A nemek osztályozásánál az ipar vezető cégeinek mesterséges intelligenciás megoldásaiban 87.9-93.7%-os pontosságot érnek el. Figyelembe véve, hogy nem csak sokéves tapasztalat, de jóval nagyobb adathalmaz, számítási kapacitás, memória és tőke birtokában dolgoznak, az eredményeim jónak számítanak. Nem jelenthetjük ki azonban, hogy utolértem az IBM 87.9%-os arcfelismerőjét, mert a felhasznált adathalmazom kisebb és nem tökéletesen reprezentatív: híres emberek vannak benne, így a nők, kissebbségiek és bizonyos embercsoportok alul vannak reprezentálva, míg mások - például a filmesek és színészek, akik az adatbázis 40%-át teszik ki - sokkal nagyobb arányban szerepelnek. Talán az eredmények ilyen jóságát magyarázza, hogy a híres emberek általában karakteresebb arcúak, esetleg a kicsi validációs adathalmaz (600-700 kép) miatt egyszerűen szerencsés értéket kaptam.\n",
    "Megfigyelhető, hogy a férfiakat jobban felfedezi a hálóm, mint a nőket. Ez a jelenség abból fakad, hogy a férfiak arca jellemzően karakteresebb, ha valakin bajusz vagy szakáll van, az szinte biztosan férfi, míg nőkre ilyen vonások nincsenek. A jelenség megfigyelhető a profi neurális hálóknál is. A validációs adatban a férfiak túlsúlya pozitívan torzítja az eredményem. Ezt ellensúlyozom azzal, hogy a kapott eredményeket úgy súlyozom, hogy az osztály súlya fordítottan arányos a gyakoriságával, amit persze nem csak a nemek osztályozásánál teszek meg.\n",
    "\n",
    "A munkakörök csoportosítása meglehetősen önkényes, de törekedtem arra, hogy a hasonló tulajdonságokat igénylő szakmák kerüljenek azonos csoportba. Ez feltételezi, hogy inkább a képességeink határozzák meg a leendő munkánkat, mint az álommunkánk a képességeinket. A pontos csoportosítások megtalálhatóak a dokumentációban.\n",
    "Ebben a részben nem az osztályozási pontosság maximalizálását tekintettem első szempontnak, hanem azt, hogy mindenféle munkakört tippeljen, így az eredményt messzebbi, akár szociológiai témájú következtetések levonására is használhassuk. Ilyen eredmények például, hogy egyes területeken dolgozók nagyon hasonlóan vagy éppen különbözően szoktak kinézni, vagy hogy melyik területeknek a legfelismerhetőbb az arcuk."
   ]
  }
 ],
 "metadata": {
  "kernelspec": {
   "display_name": "Python [conda env:ds]",
   "language": "python",
   "name": "conda-env-ds-py"
  },
  "language_info": {
   "codemirror_mode": {
    "name": "ipython",
    "version": 3
   },
   "file_extension": ".py",
   "mimetype": "text/x-python",
   "name": "python",
   "nbconvert_exporter": "python",
   "pygments_lexer": "ipython3",
   "version": "3.7.3"
  }
 },
 "nbformat": 4,
 "nbformat_minor": 2
}
